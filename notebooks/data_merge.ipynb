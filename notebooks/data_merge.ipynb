{
  "cells": [
    {
      "cell_type": "markdown",
      "metadata": {
        "id": "3Mm0iSz4KJ3r"
      },
      "source": [
        "# [1] data merge"
      ]
    },
    {
      "cell_type": "markdown",
      "metadata": {
        "id": "COK4w8q6Kdre"
      },
      "source": [
        "## (1) customer_id, order_id 기준으로 병합\n",
        " > 고유값을 key로 merge 시행  \n",
        " > 각 주문별 배송일자가 다를 수 있음을 고려하여 중복 허용  \n",
        " > 필요한 정보값이 가장 많은 'order' 데이터셋을 기반으로 merge 시행"
      ]
    },
    {
      "cell_type": "code",
      "execution_count": null,
      "metadata": {
        "id": "dQvlWmM0NOaE"
      },
      "outputs": [],
      "source": [
        "from google.colab import drive\n",
        "drive.mount('/content/drive')"
      ]
    },
    {
      "cell_type": "code",
      "execution_count": null,
      "metadata": {
        "colab": {
          "base_uri": "https://localhost:8080/"
        },
        "id": "AYv5WI7RAsHm",
        "outputId": "44192e8e-e44f-49fa-98a1-3c3fab3c303b"
      },
      "outputs": [
        {
          "name": "stdout",
          "output_type": "stream",
          "text": [
            "Collecting koreanize-matplotlib\n",
            "  Downloading koreanize_matplotlib-0.1.1-py3-none-any.whl.metadata (992 bytes)\n",
            "Requirement already satisfied: matplotlib in /usr/local/lib/python3.11/dist-packages (from koreanize-matplotlib) (3.10.0)\n",
            "Requirement already satisfied: contourpy>=1.0.1 in /usr/local/lib/python3.11/dist-packages (from matplotlib->koreanize-matplotlib) (1.3.2)\n",
            "Requirement already satisfied: cycler>=0.10 in /usr/local/lib/python3.11/dist-packages (from matplotlib->koreanize-matplotlib) (0.12.1)\n",
            "Requirement already satisfied: fonttools>=4.22.0 in /usr/local/lib/python3.11/dist-packages (from matplotlib->koreanize-matplotlib) (4.58.4)\n",
            "Requirement already satisfied: kiwisolver>=1.3.1 in /usr/local/lib/python3.11/dist-packages (from matplotlib->koreanize-matplotlib) (1.4.8)\n",
            "Requirement already satisfied: numpy>=1.23 in /usr/local/lib/python3.11/dist-packages (from matplotlib->koreanize-matplotlib) (2.0.2)\n",
            "Requirement already satisfied: packaging>=20.0 in /usr/local/lib/python3.11/dist-packages (from matplotlib->koreanize-matplotlib) (24.2)\n",
            "Requirement already satisfied: pillow>=8 in /usr/local/lib/python3.11/dist-packages (from matplotlib->koreanize-matplotlib) (11.2.1)\n",
            "Requirement already satisfied: pyparsing>=2.3.1 in /usr/local/lib/python3.11/dist-packages (from matplotlib->koreanize-matplotlib) (3.2.3)\n",
            "Requirement already satisfied: python-dateutil>=2.7 in /usr/local/lib/python3.11/dist-packages (from matplotlib->koreanize-matplotlib) (2.9.0.post0)\n",
            "Requirement already satisfied: six>=1.5 in /usr/local/lib/python3.11/dist-packages (from python-dateutil>=2.7->matplotlib->koreanize-matplotlib) (1.17.0)\n",
            "Downloading koreanize_matplotlib-0.1.1-py3-none-any.whl (7.9 MB)\n",
            "\u001b[2K   \u001b[90m━━━━━━━━━━━━━━━━━━━━━━━━━━━━━━━━━━━━━━━━\u001b[0m \u001b[32m7.9/7.9 MB\u001b[0m \u001b[31m55.1 MB/s\u001b[0m eta \u001b[36m0:00:00\u001b[0m\n",
            "\u001b[?25hInstalling collected packages: koreanize-matplotlib\n",
            "Successfully installed koreanize-matplotlib-0.1.1\n"
          ]
        }
      ],
      "source": [
        "import pandas as pd\n",
        "\n",
        "import pandas as pd\n",
        "import numpy as np\n",
        "\n",
        "import matplotlib.pyplot as plt\n",
        "import seaborn as sns\n",
        "\n",
        "!pip install koreanize-matplotlib\n",
        "import koreanize_matplotlib\n",
        "\n",
        "from IPython.core.interactiveshell import InteractiveShell\n",
        "InteractiveShell.ast_node_interactivity = \"all\""
      ]
    },
    {
      "cell_type": "markdown",
      "metadata": {
        "id": "N_ZQjNELA84B"
      },
      "source": [
        "# 데이터 전처리"
      ]
    },
    {
      "cell_type": "code",
      "execution_count": null,
      "metadata": {
        "id": "AZaZzSAcA6_n"
      },
      "outputs": [],
      "source": [
        "# CSV 파일 읽어오기\n",
        "\n",
        "customers = pd.read_csv('/content/drive/MyDrive/새싹캠퍼스/데이터 분석/팀프로젝트1/olist_customers_dataset.csv')\n",
        "items = pd.read_csv('/content/drive/MyDrive/새싹캠퍼스/데이터 분석/팀프로젝트1/olist_order_items_dataset.csv')\n",
        "payments = pd.read_csv('/content/drive/MyDrive/새싹캠퍼스/데이터 분석/팀프로젝트1/olist_order_payments_dataset.csv')\n",
        "orders = pd.read_csv('/content/drive/MyDrive/새싹캠퍼스/데이터 분석/팀프로젝트1/olist_orders_dataset.csv')\n",
        "products = pd.read_csv('/content/drive/MyDrive/새싹캠퍼스/데이터 분석/팀프로젝트1/olist_products_dataset.csv')\n",
        "reviews = pd.read_csv('/content/drive/MyDrive/새싹캠퍼스/데이터 분석/팀프로젝트1/olist_order_reviews_dataset.csv')"
      ]
    },
    {
      "cell_type": "markdown",
      "metadata": {
        "id": "dSEyCisWBl7s"
      },
      "source": [
        "## 데이터 병합 : orders를 기준으로"
      ]
    },
    {
      "cell_type": "code",
      "execution_count": null,
      "metadata": {
        "id": "GuqJBohcCsh4"
      },
      "outputs": [],
      "source": [
        "# 배송 지연 여부 변수 생성\n",
        "orders['is_delayed'] = orders['order_delivered_customer_date'] > orders['order_estimated_delivery_date']"
      ]
    },
    {
      "cell_type": "code",
      "execution_count": null,
      "metadata": {
        "colab": {
          "base_uri": "https://localhost:8080/"
        },
        "id": "Dza7rw5YBB1p",
        "outputId": "14346c09-0fcc-4ce1-c12b-d84cbfdf587b"
      },
      "outputs": [
        {
          "data": {
            "text/plain": [
              "(119143, 37)"
            ]
          },
          "execution_count": 6,
          "metadata": {},
          "output_type": "execute_result"
        },
        {
          "name": "stdout",
          "output_type": "stream",
          "text": [
            "<class 'pandas.core.frame.DataFrame'>\n",
            "RangeIndex: 119143 entries, 0 to 119142\n",
            "Data columns (total 37 columns):\n",
            " #   Column                         Non-Null Count   Dtype  \n",
            "---  ------                         --------------   -----  \n",
            " 0   order_id                       119143 non-null  object \n",
            " 1   customer_id                    119143 non-null  object \n",
            " 2   order_status                   119143 non-null  object \n",
            " 3   order_purchase_timestamp       119143 non-null  object \n",
            " 4   order_approved_at              118966 non-null  object \n",
            " 5   order_delivered_carrier_date   117057 non-null  object \n",
            " 6   order_delivered_customer_date  115722 non-null  object \n",
            " 7   order_estimated_delivery_date  119143 non-null  object \n",
            " 8   is_delayed                     119143 non-null  bool   \n",
            " 9   customer_unique_id             119143 non-null  object \n",
            " 10  customer_zip_code_prefix       119143 non-null  int64  \n",
            " 11  customer_city                  119143 non-null  object \n",
            " 12  customer_state                 119143 non-null  object \n",
            " 13  payment_sequential             119140 non-null  float64\n",
            " 14  payment_type                   119140 non-null  object \n",
            " 15  payment_installments           119140 non-null  float64\n",
            " 16  payment_value                  119140 non-null  float64\n",
            " 17  order_item_id                  118310 non-null  float64\n",
            " 18  product_id                     118310 non-null  object \n",
            " 19  seller_id                      118310 non-null  object \n",
            " 20  shipping_limit_date            118310 non-null  object \n",
            " 21  price                          118310 non-null  float64\n",
            " 22  freight_value                  118310 non-null  float64\n",
            " 23  product_category_name          116601 non-null  object \n",
            " 24  product_name_lenght            116601 non-null  float64\n",
            " 25  product_description_lenght     116601 non-null  float64\n",
            " 26  product_photos_qty             116601 non-null  float64\n",
            " 27  product_weight_g               118290 non-null  float64\n",
            " 28  product_length_cm              118290 non-null  float64\n",
            " 29  product_height_cm              118290 non-null  float64\n",
            " 30  product_width_cm               118290 non-null  float64\n",
            " 31  review_id                      118146 non-null  object \n",
            " 32  review_score                   118146 non-null  float64\n",
            " 33  review_comment_title           13989 non-null   object \n",
            " 34  review_comment_message         50245 non-null   object \n",
            " 35  review_creation_date           118146 non-null  object \n",
            " 36  review_answer_timestamp        118146 non-null  object \n",
            "dtypes: bool(1), float64(14), int64(1), object(21)\n",
            "memory usage: 32.8+ MB\n"
          ]
        }
      ],
      "source": [
        "# 병합: orders + customers\n",
        "raw = orders.merge(customers, on='customer_id', how='left')\n",
        "\n",
        "# 병합: + payments\n",
        "raw = raw.merge(payments, on='order_id', how='left')\n",
        "\n",
        "# 병합: + items\n",
        "raw = raw.merge(items, on='order_id', how='left')\n",
        "\n",
        "# 병합: + products\n",
        "raw = raw.merge(products, on='product_id', how='left')\n",
        "\n",
        "# 병합: + reviews\n",
        "raw = raw.merge(reviews, on='order_id', how='left')\n",
        "\n",
        "\n",
        "raw.shape\n",
        "raw.info()"
      ]
    },
    {
      "cell_type": "code",
      "execution_count": null,
      "metadata": {},
      "outputs": [],
      "source": [
        "# 시간 데이터 datetime 형식으로 변환\n",
        "raw['order_delivered_customer_date'] = pd.to_datetime(raw['order_delivered_customer_date'])\n",
        "raw['order_estimated_delivery_date'] = pd.to_datetime(raw['order_estimated_delivery_date'])\n",
        "raw['order_delivered_carrier_date'] = pd.to_datetime(raw['order_delivered_carrier_date'])\n",
        "raw['order_approved_at'] = pd.to_datetime(raw['order_approved_at'])\n",
        "raw['order_purchase_timestamp'] = pd.to_datetime(raw['order_purchase_timestamp'])\n",
        "raw['shipping_limit_date'] = pd.to_datetime(raw['shipping_limit_date'])\n",
        "\n",
        "# 배송 지연 여부 변수 생성\n",
        "raw['is_delayed'] = (raw['order_delivered_customer_date'] > raw['order_estimated_delivery_date']).astype(int)\n",
        "\n",
        "# 배송 지연 일수 계산\n",
        "raw['delay_days'] = (raw['order_delivered_customer_date'] - raw['order_estimated_delivery_date']).dt.days\n",
        "\n",
        "# 음수(예정보다 빨리 도착한 경우)는 0으로 대체\n",
        "raw['delay_days'] = raw['delay_days'].apply(lambda x: x if x > 0 else 0)\n",
        "\n",
        "# 중복행 확인\n",
        "raw.duplicated().sum()\n",
        "\n",
        "# 결측치 확인\n",
        "raw.isnull().sum()[raw.isnull().sum()>0] "
      ]
    }
  ],
  "metadata": {
    "colab": {
      "provenance": []
    },
    "kernelspec": {
      "display_name": "Python 3",
      "name": "python3"
    },
    "language_info": {
      "name": "python"
    }
  },
  "nbformat": 4,
  "nbformat_minor": 0
}
